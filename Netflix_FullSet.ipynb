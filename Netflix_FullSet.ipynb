{
 "cells": [
  {
   "cell_type": "markdown",
   "id": "6bf1d07e",
   "metadata": {},
   "source": [
    "# Instruction to download datasets:"
   ]
  },
  {
   "cell_type": "markdown",
   "id": "54a46033",
   "metadata": {},
   "source": [
    "Please download datasets from the link https://www.kaggle.com/datasets/netflix-inc/netflix-prize-data\n",
    "\n",
    "Place below datasets to the same folder of this notebook"
   ]
  },
  {
   "cell_type": "markdown",
   "id": "24826e2b",
   "metadata": {},
   "source": [
    "1) combined_data_1.txt\n",
    "\n",
    "2) combined_data_2.txt\n",
    "\n",
    "3) combined_data_3.txt\n",
    "\n",
    "4) combined_data_4.txt\n",
    "\n",
    "5) movie_titles.csv"
   ]
  },
  {
   "cell_type": "code",
   "execution_count": 1,
   "id": "5657035b",
   "metadata": {},
   "outputs": [],
   "source": [
    "import pandas as pd\n",
    "import numpy as np\n",
    "import random\n",
    "from surprise import Reader, Dataset, SVD\n",
    "from surprise.model_selection import cross_validate"
   ]
  },
  {
   "cell_type": "markdown",
   "id": "855482ce",
   "metadata": {},
   "source": [
    "## Data Preprocessing"
   ]
  },
  {
   "cell_type": "markdown",
   "id": "91985bc0",
   "metadata": {},
   "source": [
    "Movie Title"
   ]
  },
  {
   "cell_type": "code",
   "execution_count": 2,
   "id": "91a831c5",
   "metadata": {},
   "outputs": [
    {
     "data": {
      "text/html": [
       "<div>\n",
       "<style scoped>\n",
       "    .dataframe tbody tr th:only-of-type {\n",
       "        vertical-align: middle;\n",
       "    }\n",
       "\n",
       "    .dataframe tbody tr th {\n",
       "        vertical-align: top;\n",
       "    }\n",
       "\n",
       "    .dataframe thead th {\n",
       "        text-align: right;\n",
       "    }\n",
       "</style>\n",
       "<table border=\"1\" class=\"dataframe\">\n",
       "  <thead>\n",
       "    <tr style=\"text-align: right;\">\n",
       "      <th></th>\n",
       "      <th>Year_Release</th>\n",
       "      <th>Title</th>\n",
       "    </tr>\n",
       "    <tr>\n",
       "      <th>Movie_ID</th>\n",
       "      <th></th>\n",
       "      <th></th>\n",
       "    </tr>\n",
       "  </thead>\n",
       "  <tbody>\n",
       "    <tr>\n",
       "      <th>1</th>\n",
       "      <td>2003</td>\n",
       "      <td>Dinosaur Planet</td>\n",
       "    </tr>\n",
       "    <tr>\n",
       "      <th>2</th>\n",
       "      <td>2004</td>\n",
       "      <td>Isle of Man TT 2004 Review</td>\n",
       "    </tr>\n",
       "    <tr>\n",
       "      <th>3</th>\n",
       "      <td>1997</td>\n",
       "      <td>Character</td>\n",
       "    </tr>\n",
       "    <tr>\n",
       "      <th>4</th>\n",
       "      <td>1994</td>\n",
       "      <td>Paula Abdul's Get Up &amp; Dance</td>\n",
       "    </tr>\n",
       "    <tr>\n",
       "      <th>5</th>\n",
       "      <td>2004</td>\n",
       "      <td>The Rise and Fall of ECW</td>\n",
       "    </tr>\n",
       "    <tr>\n",
       "      <th>...</th>\n",
       "      <td>...</td>\n",
       "      <td>...</td>\n",
       "    </tr>\n",
       "    <tr>\n",
       "      <th>496</th>\n",
       "      <td>2004</td>\n",
       "      <td>Primus: Hallucino-Genetics Live 2004</td>\n",
       "    </tr>\n",
       "    <tr>\n",
       "      <th>497</th>\n",
       "      <td>2003</td>\n",
       "      <td>Broadway's Lost Treasures</td>\n",
       "    </tr>\n",
       "    <tr>\n",
       "      <th>498</th>\n",
       "      <td>1989</td>\n",
       "      <td>Glory: Bonus Material</td>\n",
       "    </tr>\n",
       "    <tr>\n",
       "      <th>499</th>\n",
       "      <td>2000</td>\n",
       "      <td>Under Suspicion</td>\n",
       "    </tr>\n",
       "    <tr>\n",
       "      <th>500</th>\n",
       "      <td>2002</td>\n",
       "      <td>Mail Call: The Best of Season 1</td>\n",
       "    </tr>\n",
       "  </tbody>\n",
       "</table>\n",
       "<p>500 rows × 2 columns</p>\n",
       "</div>"
      ],
      "text/plain": [
       "         Year_Release                                 Title\n",
       "Movie_ID                                                   \n",
       "1                2003                       Dinosaur Planet\n",
       "2                2004            Isle of Man TT 2004 Review\n",
       "3                1997                             Character\n",
       "4                1994          Paula Abdul's Get Up & Dance\n",
       "5                2004              The Rise and Fall of ECW\n",
       "...               ...                                   ...\n",
       "496              2004  Primus: Hallucino-Genetics Live 2004\n",
       "497              2003             Broadway's Lost Treasures\n",
       "498              1989                 Glory: Bonus Material\n",
       "499              2000                       Under Suspicion\n",
       "500              2002       Mail Call: The Best of Season 1\n",
       "\n",
       "[500 rows x 2 columns]"
      ]
     },
     "execution_count": 2,
     "metadata": {},
     "output_type": "execute_result"
    }
   ],
   "source": [
    "df_title = pd.read_csv(\".\\\\movie_titles.csv\", sep=';', names=[\"Movie_ID\", \"Year_Release\", \"Title\"], encoding=\"latin_1\")\n",
    "\n",
    "temp = df_title[\"Movie_ID\"].tolist()\n",
    "df_title[\"Title\"] = [temp[i].split(\",\", 2)[2] for i in range(len(temp))]\n",
    "df_title[\"Year_Release\"] = [temp[i].split(\",\", 2)[1] for i in range(len(temp))]\n",
    "df_title[\"Movie_ID\"] = [temp[i].split(\",\", 2)[0] for i in range(len(temp))]\n",
    "\n",
    "df_title = df_title.astype({\"Movie_ID\": \"int\"})\n",
    "# df_title[df_title[\"Year_Release\"]==\"NULL\"]\n",
    "# Year_Movie_Nan = movie[movie[\"Year_Release\"]==\"NULL\"].index.tolist()\n",
    "# Year_Movie_Fill = [2001, np.nan, np.nan, 1974, 1999, 1994, 1999]\n",
    "df_title = df_title.set_index(\"Movie_ID\")\n",
    "#df_title = df_title[df_title.index<501]\n",
    "\n",
    "df_title"
   ]
  },
  {
   "cell_type": "markdown",
   "id": "32546542",
   "metadata": {},
   "source": [
    "Rating"
   ]
  },
  {
   "cell_type": "code",
   "execution_count": 3,
   "id": "2e111656",
   "metadata": {
    "scrolled": true
   },
   "outputs": [
    {
     "data": {
      "text/html": [
       "<div>\n",
       "<style scoped>\n",
       "    .dataframe tbody tr th:only-of-type {\n",
       "        vertical-align: middle;\n",
       "    }\n",
       "\n",
       "    .dataframe tbody tr th {\n",
       "        vertical-align: top;\n",
       "    }\n",
       "\n",
       "    .dataframe thead th {\n",
       "        text-align: right;\n",
       "    }\n",
       "</style>\n",
       "<table border=\"1\" class=\"dataframe\">\n",
       "  <thead>\n",
       "    <tr style=\"text-align: right;\">\n",
       "      <th></th>\n",
       "      <th>Movie_ID</th>\n",
       "      <th>Customer_ID</th>\n",
       "      <th>Rating</th>\n",
       "      <th>Date</th>\n",
       "    </tr>\n",
       "  </thead>\n",
       "  <tbody>\n",
       "    <tr>\n",
       "      <th>0</th>\n",
       "      <td>1</td>\n",
       "      <td>1596531</td>\n",
       "      <td>5.0</td>\n",
       "      <td>2004-01-23</td>\n",
       "    </tr>\n",
       "    <tr>\n",
       "      <th>1</th>\n",
       "      <td>1</td>\n",
       "      <td>1366860</td>\n",
       "      <td>4.0</td>\n",
       "      <td>2004-01-26</td>\n",
       "    </tr>\n",
       "    <tr>\n",
       "      <th>2</th>\n",
       "      <td>1</td>\n",
       "      <td>1181550</td>\n",
       "      <td>3.0</td>\n",
       "      <td>2004-02-01</td>\n",
       "    </tr>\n",
       "    <tr>\n",
       "      <th>3</th>\n",
       "      <td>1</td>\n",
       "      <td>1227322</td>\n",
       "      <td>4.0</td>\n",
       "      <td>2004-02-06</td>\n",
       "    </tr>\n",
       "    <tr>\n",
       "      <th>4</th>\n",
       "      <td>1</td>\n",
       "      <td>2413320</td>\n",
       "      <td>4.0</td>\n",
       "      <td>2004-02-06</td>\n",
       "    </tr>\n",
       "    <tr>\n",
       "      <th>...</th>\n",
       "      <td>...</td>\n",
       "      <td>...</td>\n",
       "      <td>...</td>\n",
       "      <td>...</td>\n",
       "    </tr>\n",
       "    <tr>\n",
       "      <th>2798699</th>\n",
       "      <td>500</td>\n",
       "      <td>2118461</td>\n",
       "      <td>5.0</td>\n",
       "      <td>2005-12-19</td>\n",
       "    </tr>\n",
       "    <tr>\n",
       "      <th>2798700</th>\n",
       "      <td>500</td>\n",
       "      <td>2491226</td>\n",
       "      <td>2.0</td>\n",
       "      <td>2005-12-19</td>\n",
       "    </tr>\n",
       "    <tr>\n",
       "      <th>2798701</th>\n",
       "      <td>500</td>\n",
       "      <td>961541</td>\n",
       "      <td>4.0</td>\n",
       "      <td>2005-12-21</td>\n",
       "    </tr>\n",
       "    <tr>\n",
       "      <th>2798702</th>\n",
       "      <td>500</td>\n",
       "      <td>1721510</td>\n",
       "      <td>4.0</td>\n",
       "      <td>2005-12-21</td>\n",
       "    </tr>\n",
       "    <tr>\n",
       "      <th>2798703</th>\n",
       "      <td>500</td>\n",
       "      <td>714682</td>\n",
       "      <td>5.0</td>\n",
       "      <td>2005-12-31</td>\n",
       "    </tr>\n",
       "  </tbody>\n",
       "</table>\n",
       "<p>2798704 rows × 4 columns</p>\n",
       "</div>"
      ],
      "text/plain": [
       "         Movie_ID  Customer_ID  Rating       Date\n",
       "0               1      1596531     5.0 2004-01-23\n",
       "1               1      1366860     4.0 2004-01-26\n",
       "2               1      1181550     3.0 2004-02-01\n",
       "3               1      1227322     4.0 2004-02-06\n",
       "4               1      2413320     4.0 2004-02-06\n",
       "...           ...          ...     ...        ...\n",
       "2798699       500      2118461     5.0 2005-12-19\n",
       "2798700       500      2491226     2.0 2005-12-19\n",
       "2798701       500       961541     4.0 2005-12-21\n",
       "2798702       500      1721510     4.0 2005-12-21\n",
       "2798703       500       714682     5.0 2005-12-31\n",
       "\n",
       "[2798704 rows x 4 columns]"
      ]
     },
     "execution_count": 3,
     "metadata": {},
     "output_type": "execute_result"
    }
   ],
   "source": [
    "df1 = pd.read_table(\".\\\\combined_data_1.txt\", sep=\",\", names=[\"Customer_ID\", \"Rating\", \"Date\"])\n",
    "df2 = pd.read_table(\".\\\\combined_data_2.txt\", sep=\",\", names=[\"Customer_ID\", \"Rating\", \"Date\"])\n",
    "df3 = pd.read_table(\".\\\\combined_data_3.txt\", sep=\",\", names=[\"Customer_ID\", \"Rating\", \"Date\"])\n",
    "df4 = pd.read_table(\".\\\\combined_data_4.txt\", sep=\",\", names=[\"Customer_ID\", \"Rating\", \"Date\"])\n",
    "df = pd.concat([df1, df2, df3, df4], ignore_index=True)\n",
    "\n",
    "temp_list1 = df[\"Customer_ID\"]\n",
    "temp_list2 = []\n",
    "\n",
    "for i in temp_list1 :\n",
    "    if i.find(\":\") > 0 :\n",
    "        temp = i.replace(\":\", \"\")\n",
    "        temp_list2.append(np.nan)\n",
    "    else :\n",
    "        temp_list2.append(temp)\n",
    "\n",
    "df.insert(0, \"Movie_ID\", temp_list2)\n",
    "df = df.dropna(subset=[\"Movie_ID\"])\n",
    "df = df.astype({\"Movie_ID\": \"int\", \"Customer_ID\": \"int\"})\n",
    "df[\"Date\"] = pd.to_datetime(df[\"Date\"], format=\"%Y-%m-%d\")\n",
    "df = df.sort_values(by=[\"Movie_ID\", \"Date\", \"Customer_ID\"])\n",
    "df = df.reset_index().drop([\"index\"], axis=1)\n",
    "#df = df[df[\"Movie_ID\"]<501]\n",
    "\n",
    "df"
   ]
  },
  {
   "cell_type": "markdown",
   "id": "c733f0ac",
   "metadata": {},
   "source": [
    "Variable for function"
   ]
  },
  {
   "cell_type": "code",
   "execution_count": 4,
   "id": "c0881795",
   "metadata": {},
   "outputs": [],
   "source": [
    "df_movie_summary = df.groupby('Movie_ID')['Rating'].agg(['count','mean'])\n",
    "movie_benchmark = round(df_movie_summary['count'].quantile(0.8),0)\n",
    "drop_movie_list = df_movie_summary[df_movie_summary['count'] < movie_benchmark].index\n",
    "\n",
    "df_cust_summary = df.groupby('Customer_ID')['Rating'].agg(['count','mean'])\n",
    "cust_benchmark = round(df_cust_summary['count'].quantile(0.8),0)\n",
    "drop_cust_list = df_cust_summary[df_cust_summary['count'] < cust_benchmark].index\n",
    "\n",
    "df_pt = pd.pivot_table(df,values='Rating',index='Customer_ID',columns='Movie_ID')"
   ]
  },
  {
   "cell_type": "markdown",
   "id": "70911576",
   "metadata": {},
   "source": [
    "## Recommendation models"
   ]
  },
  {
   "cell_type": "markdown",
   "id": "803c9d7f",
   "metadata": {},
   "source": [
    "Recommend with Collaborative Filtering"
   ]
  },
  {
   "cell_type": "code",
   "execution_count": 5,
   "id": "9e561191",
   "metadata": {},
   "outputs": [
    {
     "data": {
      "text/plain": [
       "{'test_rmse': array([0.98764577, 0.9881501 , 0.98928323, 0.98897319, 0.98833283]),\n",
       " 'test_mae': array([0.77691932, 0.77733161, 0.77798188, 0.77734425, 0.77742266]),\n",
       " 'fit_time': (33.512972831726074,\n",
       "  33.722288846969604,\n",
       "  34.18374800682068,\n",
       "  33.805906534194946,\n",
       "  34.28094840049744),\n",
       " 'test_time': (7.635077714920044,\n",
       "  6.232989549636841,\n",
       "  6.920273780822754,\n",
       "  6.236044883728027,\n",
       "  6.1862335205078125)}"
      ]
     },
     "execution_count": 5,
     "metadata": {},
     "output_type": "execute_result"
    }
   ],
   "source": [
    "reader = Reader()\n",
    "\n",
    "data = Dataset.load_from_df(df[['Customer_ID', 'Movie_ID', 'Rating']][:], reader)\n",
    "\n",
    "svd = SVD()\n",
    "cross_validate(svd, data, measures=['RMSE', 'MAE'])"
   ]
  },
  {
   "cell_type": "markdown",
   "id": "38b8fce4",
   "metadata": {},
   "source": [
    "Create the function check what customer liked in the past:"
   ]
  },
  {
   "cell_type": "code",
   "execution_count": 6,
   "id": "b1cd414c",
   "metadata": {},
   "outputs": [
    {
     "data": {
      "text/plain": [
       "('Customer 2157639 liked record:\\n',\n",
       " Movie_ID\n",
       " 143    The Game\n",
       " Name: Title, dtype: object)"
      ]
     },
     "execution_count": 6,
     "metadata": {},
     "output_type": "execute_result"
    }
   ],
   "source": [
    "def liked(num):\n",
    "    df_liked = df[(df['Customer_ID'] == num) & (df['Rating'] == 5)]\n",
    "    df_liked = df_liked.set_index('Movie_ID')\n",
    "    df_liked = df_liked.join(df_title)['Title']\n",
    "    if df_liked.empty == True :\n",
    "        return f\"Customer {num} has not given any movie with 5 scores yet.\"\n",
    "    else :\n",
    "        return f\"Customer {num} liked record:\\n\", df_liked\n",
    "\n",
    "liked(random.choice(df[\"Customer_ID\"]))"
   ]
  },
  {
   "cell_type": "markdown",
   "id": "eea4bde4",
   "metadata": {},
   "source": [
    "Create the function predict which movies customer would love to watch:"
   ]
  },
  {
   "cell_type": "code",
   "execution_count": 7,
   "id": "e94be4e6",
   "metadata": {},
   "outputs": [
    {
     "name": "stdout",
     "output_type": "stream",
     "text": [
      "Recommendation for customer 31724:      Year_Release                                    Title  Estimate_Score\n",
      "32          2000           Aqua Teen Hunger Force: Vol. 1        4.650285\n",
      "358         2003            Absolutely Fabulous: Series 5        4.643055\n",
      "470         1931                              City Lights        4.361014\n",
      "151         1995                        A Little Princess        4.349601\n",
      "269         2001               Sex and the City: Season 4        4.308298\n",
      "43          1996                           Spitfire Grill        4.268676\n",
      "164         1982  Richard Pryor: Live on the Sunset Strip        4.252555\n",
      "214         1998                 That '70s Show: Season 1        4.232000\n",
      "404         1987                          Wings of Desire        4.168572\n",
      "174         1992                           Reservoir Dogs        4.133983\n"
     ]
    }
   ],
   "source": [
    "def recommend_cust(num):  \n",
    "    cust_recommend = df_title.copy()\n",
    "    cust_recommend = cust_recommend.reset_index()\n",
    "    cust_recommend = cust_recommend[~cust_recommend['Movie_ID'].isin(drop_movie_list)]\n",
    "        \n",
    "    # getting full dataset\n",
    "    data = Dataset.load_from_df(df[['Customer_ID', 'Movie_ID', 'Rating']], reader)\n",
    "    trainset = data.build_full_trainset()\n",
    "    svd.fit(trainset)\n",
    "        \n",
    "    cust_recommend['Estimate_Score'] = cust_recommend['Movie_ID'].apply(lambda x: svd.predict(num, x).est)\n",
    "    cust_recommend = cust_recommend.drop('Movie_ID', axis = 1)\n",
    "    cust_recommend = cust_recommend.sort_values('Estimate_Score', ascending=False)\n",
    "    print(f\"Recommendation for customer {num}: \", cust_recommend.head(10))\n",
    "\n",
    "recommend_cust(random.choice(df[\"Customer_ID\"]))"
   ]
  },
  {
   "cell_type": "markdown",
   "id": "a7d327f3",
   "metadata": {},
   "source": [
    "Recommend with Pearsons' R correlations\n",
    "\n",
    "The way it works is we use Pearsons' R correlation to measure the linear correlation between review scores of all pairs of movies, then we provide the top 10 movies with highest correlations:"
   ]
  },
  {
   "cell_type": "code",
   "execution_count": 10,
   "id": "47bd3256",
   "metadata": {},
   "outputs": [
    {
     "name": "stdout",
     "output_type": "stream",
     "text": [
      "Top 10 movies recommended based on Pearsons'R correlation by moive \"Querelle\":\n",
      " PearsonR                                               Title  count     mean\n",
      " 1.000000            Marilyn Manson: Fear of a Satanic Planet    121 2.975207\n",
      " 1.000000                                            Querelle    890 2.778652\n",
      " 1.000000 Ashtanga Yoga: Beginner's Practice with Nicki Doane    108 2.712963\n",
      " 1.000000                                      One Last Dance    652 2.627301\n",
      " 1.000000                       Jimmy Buffett: MiniMatinee #1     90 2.988889\n",
      " 1.000000                                     IFilm: Deranged    163 3.012270\n",
      " 1.000000                   GTO: Great Teacher Onizuka: Set 2    384 4.138021\n",
      " 1.000000                                          Elfen Lied    266 4.251880\n",
      " 1.000000                Primus: Hallucino-Genetics Live 2004    235 3.710638\n",
      " 0.986908  Cartoon Network Halloween: 9 Creepy Cartoon Capers    335 3.388060\n"
     ]
    }
   ],
   "source": [
    "def recommend_movie(movie_title, min_count):\n",
    "    print(f'''Top 10 movies recommended based on Pearsons'R correlation by moive \"{movie_title}\":''')\n",
    "    i = int(df_title.index[df_title['Title'] == movie_title][0])\n",
    "    target = df_pt[i]\n",
    "    similar_to_target = df_pt.corrwith(target)\n",
    "    corr_target = pd.DataFrame(similar_to_target, columns = ['PearsonR'])\n",
    "    corr_target.dropna(inplace = True)\n",
    "    corr_target = corr_target.sort_values('PearsonR', ascending = False)\n",
    "    corr_target.index = corr_target.index.map(int)\n",
    "    corr_target = corr_target.join(df_title).join(df_movie_summary)[['PearsonR', 'Title', 'count', 'mean']]\n",
    "    print(corr_target[corr_target['count']>min_count][:10].to_string(index=False))\n",
    "\n",
    "recommend_movie(random.choice(df_title[\"Title\"]), 0)"
   ]
  }
 ],
 "metadata": {
  "kernelspec": {
   "display_name": "Python 3 (ipykernel)",
   "language": "python",
   "name": "python3"
  },
  "language_info": {
   "codemirror_mode": {
    "name": "ipython",
    "version": 3
   },
   "file_extension": ".py",
   "mimetype": "text/x-python",
   "name": "python",
   "nbconvert_exporter": "python",
   "pygments_lexer": "ipython3",
   "version": "3.9.13"
  },
  "varInspector": {
   "cols": {
    "lenName": 16,
    "lenType": 16,
    "lenVar": 40
   },
   "kernels_config": {
    "python": {
     "delete_cmd_postfix": "",
     "delete_cmd_prefix": "del ",
     "library": "var_list.py",
     "varRefreshCmd": "print(var_dic_list())"
    },
    "r": {
     "delete_cmd_postfix": ") ",
     "delete_cmd_prefix": "rm(",
     "library": "var_list.r",
     "varRefreshCmd": "cat(var_dic_list()) "
    }
   },
   "types_to_exclude": [
    "module",
    "function",
    "builtin_function_or_method",
    "instance",
    "_Feature"
   ],
   "window_display": false
  },
  "vscode": {
   "interpreter": {
    "hash": "d3dc24cc7e02586248f8d00edbc6455c95af5b22abe18b79a1c967fbdeaf1c4e"
   }
  }
 },
 "nbformat": 4,
 "nbformat_minor": 5
}
