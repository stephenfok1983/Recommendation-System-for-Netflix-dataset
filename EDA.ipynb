{
 "cells": [
  {
   "cell_type": "markdown",
   "metadata": {},
   "source": [
    "# Instruction to download datasets:"
   ]
  },
  {
   "cell_type": "markdown",
   "metadata": {},
   "source": [
    "Please download datasets from the link https://www.kaggle.com/datasets/netflix-inc/netflix-prize-data\n",
    "\n",
    "Place below datasets to the same folder of this notebook"
   ]
  },
  {
   "cell_type": "markdown",
   "metadata": {},
   "source": [
    "1) combined_data_1.txt\n",
    "\n",
    "2) combined_data_2.txt\n",
    "\n",
    "3) combined_data_3.txt\n",
    "\n",
    "4) combined_data_4.txt\n",
    "\n",
    "5) movie_titles.csv"
   ]
  },
  {
   "cell_type": "code",
   "execution_count": 1,
   "metadata": {},
   "outputs": [],
   "source": [
    "import numpy as np\n",
    "import pandas as pd\n",
    "import matplotlib.pyplot as plt\n",
    "import seaborn as sns"
   ]
  },
  {
   "cell_type": "markdown",
   "metadata": {},
   "source": [
    "## Movie"
   ]
  },
  {
   "cell_type": "code",
   "execution_count": 2,
   "metadata": {},
   "outputs": [
    {
     "data": {
      "text/html": [
       "<div>\n",
       "<style scoped>\n",
       "    .dataframe tbody tr th:only-of-type {\n",
       "        vertical-align: middle;\n",
       "    }\n",
       "\n",
       "    .dataframe tbody tr th {\n",
       "        vertical-align: top;\n",
       "    }\n",
       "\n",
       "    .dataframe thead th {\n",
       "        text-align: right;\n",
       "    }\n",
       "</style>\n",
       "<table border=\"1\" class=\"dataframe\">\n",
       "  <thead>\n",
       "    <tr style=\"text-align: right;\">\n",
       "      <th></th>\n",
       "      <th>Movie_ID</th>\n",
       "      <th>Year_Release</th>\n",
       "      <th>Title</th>\n",
       "    </tr>\n",
       "  </thead>\n",
       "  <tbody>\n",
       "    <tr>\n",
       "      <th>0</th>\n",
       "      <td>1</td>\n",
       "      <td>2003</td>\n",
       "      <td>Dinosaur Planet</td>\n",
       "    </tr>\n",
       "    <tr>\n",
       "      <th>1</th>\n",
       "      <td>2</td>\n",
       "      <td>2004</td>\n",
       "      <td>Isle of Man TT 2004 Review</td>\n",
       "    </tr>\n",
       "    <tr>\n",
       "      <th>2</th>\n",
       "      <td>3</td>\n",
       "      <td>1997</td>\n",
       "      <td>Character</td>\n",
       "    </tr>\n",
       "    <tr>\n",
       "      <th>3</th>\n",
       "      <td>4</td>\n",
       "      <td>1994</td>\n",
       "      <td>Paula Abdul's Get Up &amp; Dance</td>\n",
       "    </tr>\n",
       "    <tr>\n",
       "      <th>4</th>\n",
       "      <td>5</td>\n",
       "      <td>2004</td>\n",
       "      <td>The Rise and Fall of ECW</td>\n",
       "    </tr>\n",
       "    <tr>\n",
       "      <th>...</th>\n",
       "      <td>...</td>\n",
       "      <td>...</td>\n",
       "      <td>...</td>\n",
       "    </tr>\n",
       "    <tr>\n",
       "      <th>17765</th>\n",
       "      <td>17766</td>\n",
       "      <td>2002</td>\n",
       "      <td>Where the Wild Things Are and Other Maurice Se...</td>\n",
       "    </tr>\n",
       "    <tr>\n",
       "      <th>17766</th>\n",
       "      <td>17767</td>\n",
       "      <td>2004</td>\n",
       "      <td>Fidel Castro: American Experience</td>\n",
       "    </tr>\n",
       "    <tr>\n",
       "      <th>17767</th>\n",
       "      <td>17768</td>\n",
       "      <td>2000</td>\n",
       "      <td>Epoch</td>\n",
       "    </tr>\n",
       "    <tr>\n",
       "      <th>17768</th>\n",
       "      <td>17769</td>\n",
       "      <td>2003</td>\n",
       "      <td>The Company</td>\n",
       "    </tr>\n",
       "    <tr>\n",
       "      <th>17769</th>\n",
       "      <td>17770</td>\n",
       "      <td>2003</td>\n",
       "      <td>Alien Hunter</td>\n",
       "    </tr>\n",
       "  </tbody>\n",
       "</table>\n",
       "<p>17770 rows × 3 columns</p>\n",
       "</div>"
      ],
      "text/plain": [
       "       Movie_ID Year_Release  \\\n",
       "0             1         2003   \n",
       "1             2         2004   \n",
       "2             3         1997   \n",
       "3             4         1994   \n",
       "4             5         2004   \n",
       "...         ...          ...   \n",
       "17765     17766         2002   \n",
       "17766     17767         2004   \n",
       "17767     17768         2000   \n",
       "17768     17769         2003   \n",
       "17769     17770         2003   \n",
       "\n",
       "                                                   Title  \n",
       "0                                        Dinosaur Planet  \n",
       "1                             Isle of Man TT 2004 Review  \n",
       "2                                              Character  \n",
       "3                           Paula Abdul's Get Up & Dance  \n",
       "4                               The Rise and Fall of ECW  \n",
       "...                                                  ...  \n",
       "17765  Where the Wild Things Are and Other Maurice Se...  \n",
       "17766                  Fidel Castro: American Experience  \n",
       "17767                                              Epoch  \n",
       "17768                                        The Company  \n",
       "17769                                       Alien Hunter  \n",
       "\n",
       "[17770 rows x 3 columns]"
      ]
     },
     "execution_count": 2,
     "metadata": {},
     "output_type": "execute_result"
    }
   ],
   "source": [
    "movie = pd.read_csv(\"movie_titles.csv\", sep=';', names=[\"Movie_ID\", \"Year_Release\", \"Title\"], encoding=\"latin_1\")\n",
    "temp = movie[\"Movie_ID\"].tolist()\n",
    "movie[\"Title\"] = [temp[i].split(\",\", 2)[2] for i in range(len(temp))]\n",
    "movie[\"Year_Release\"] = [temp[i].split(\",\", 2)[1] for i in range(len(temp))]\n",
    "movie[\"Movie_ID\"] = [temp[i].split(\",\", 2)[0] for i in range(len(temp))]\n",
    "movie = movie.astype({\"Movie_ID\": \"int\"})\n",
    "# movie[movie[\"Year_Release\"]==\"NULL\"]\n",
    "# Year_Movie_Nan = movie[movie[\"Year_Release\"]==\"NULL\"].index.tolist()\n",
    "# Year_Movie_Fill = [2001, np.nan, np.nan, 1974, 1999, 1994, 1999]\n",
    "# movie.set_index(\"Movie_ID\")\n",
    "\n",
    "movie"
   ]
  },
  {
   "cell_type": "code",
   "execution_count": 3,
   "metadata": {},
   "outputs": [
    {
     "data": {
      "text/plain": [
       "2004    1436\n",
       "2002    1310\n",
       "2003    1271\n",
       "2000    1234\n",
       "2001    1184\n",
       "        ... \n",
       "1918       2\n",
       "1923       2\n",
       "1914       2\n",
       "1909       1\n",
       "1896       1\n",
       "Name: Year_Release, Length: 95, dtype: int64"
      ]
     },
     "execution_count": 3,
     "metadata": {},
     "output_type": "execute_result"
    }
   ],
   "source": [
    "movie['Year_Release'].value_counts()"
   ]
  },
  {
   "cell_type": "code",
   "execution_count": 4,
   "metadata": {},
   "outputs": [],
   "source": [
    "### EDA only for the period of 2004 JAN - 2005 DEC"
   ]
  },
  {
   "cell_type": "code",
   "execution_count": 5,
   "metadata": {},
   "outputs": [],
   "source": [
    "### TOP 5 highest number of movie release year are 2004, 2002, 2003, 2000, 2001 respectively"
   ]
  },
  {
   "cell_type": "markdown",
   "metadata": {},
   "source": [
    "## Rating"
   ]
  },
  {
   "cell_type": "code",
   "execution_count": 6,
   "metadata": {
    "scrolled": false
   },
   "outputs": [
    {
     "data": {
      "text/html": [
       "<div>\n",
       "<style scoped>\n",
       "    .dataframe tbody tr th:only-of-type {\n",
       "        vertical-align: middle;\n",
       "    }\n",
       "\n",
       "    .dataframe tbody tr th {\n",
       "        vertical-align: top;\n",
       "    }\n",
       "\n",
       "    .dataframe thead th {\n",
       "        text-align: right;\n",
       "    }\n",
       "</style>\n",
       "<table border=\"1\" class=\"dataframe\">\n",
       "  <thead>\n",
       "    <tr style=\"text-align: right;\">\n",
       "      <th></th>\n",
       "      <th>Movie_ID</th>\n",
       "      <th>Customer_ID</th>\n",
       "      <th>Rating</th>\n",
       "      <th>Date</th>\n",
       "    </tr>\n",
       "  </thead>\n",
       "  <tbody>\n",
       "    <tr>\n",
       "      <th>0</th>\n",
       "      <td>1</td>\n",
       "      <td>1596531</td>\n",
       "      <td>5.0</td>\n",
       "      <td>2004-01-23</td>\n",
       "    </tr>\n",
       "    <tr>\n",
       "      <th>1</th>\n",
       "      <td>1</td>\n",
       "      <td>1366860</td>\n",
       "      <td>4.0</td>\n",
       "      <td>2004-01-26</td>\n",
       "    </tr>\n",
       "    <tr>\n",
       "      <th>2</th>\n",
       "      <td>1</td>\n",
       "      <td>1181550</td>\n",
       "      <td>3.0</td>\n",
       "      <td>2004-02-01</td>\n",
       "    </tr>\n",
       "    <tr>\n",
       "      <th>3</th>\n",
       "      <td>1</td>\n",
       "      <td>1227322</td>\n",
       "      <td>4.0</td>\n",
       "      <td>2004-02-06</td>\n",
       "    </tr>\n",
       "    <tr>\n",
       "      <th>4</th>\n",
       "      <td>1</td>\n",
       "      <td>2413320</td>\n",
       "      <td>4.0</td>\n",
       "      <td>2004-02-06</td>\n",
       "    </tr>\n",
       "    <tr>\n",
       "      <th>...</th>\n",
       "      <td>...</td>\n",
       "      <td>...</td>\n",
       "      <td>...</td>\n",
       "      <td>...</td>\n",
       "    </tr>\n",
       "    <tr>\n",
       "      <th>24053759</th>\n",
       "      <td>4499</td>\n",
       "      <td>1145431</td>\n",
       "      <td>4.0</td>\n",
       "      <td>2005-12-12</td>\n",
       "    </tr>\n",
       "    <tr>\n",
       "      <th>24053760</th>\n",
       "      <td>4499</td>\n",
       "      <td>1199337</td>\n",
       "      <td>1.0</td>\n",
       "      <td>2005-12-17</td>\n",
       "    </tr>\n",
       "    <tr>\n",
       "      <th>24053761</th>\n",
       "      <td>4499</td>\n",
       "      <td>988963</td>\n",
       "      <td>3.0</td>\n",
       "      <td>2005-12-20</td>\n",
       "    </tr>\n",
       "    <tr>\n",
       "      <th>24053762</th>\n",
       "      <td>4499</td>\n",
       "      <td>2118461</td>\n",
       "      <td>4.0</td>\n",
       "      <td>2005-12-22</td>\n",
       "    </tr>\n",
       "    <tr>\n",
       "      <th>24053763</th>\n",
       "      <td>4499</td>\n",
       "      <td>1967694</td>\n",
       "      <td>5.0</td>\n",
       "      <td>2005-12-29</td>\n",
       "    </tr>\n",
       "  </tbody>\n",
       "</table>\n",
       "<p>24053764 rows × 4 columns</p>\n",
       "</div>"
      ],
      "text/plain": [
       "          Movie_ID  Customer_ID  Rating       Date\n",
       "0                1      1596531     5.0 2004-01-23\n",
       "1                1      1366860     4.0 2004-01-26\n",
       "2                1      1181550     3.0 2004-02-01\n",
       "3                1      1227322     4.0 2004-02-06\n",
       "4                1      2413320     4.0 2004-02-06\n",
       "...            ...          ...     ...        ...\n",
       "24053759      4499      1145431     4.0 2005-12-12\n",
       "24053760      4499      1199337     1.0 2005-12-17\n",
       "24053761      4499       988963     3.0 2005-12-20\n",
       "24053762      4499      2118461     4.0 2005-12-22\n",
       "24053763      4499      1967694     5.0 2005-12-29\n",
       "\n",
       "[24053764 rows x 4 columns]"
      ]
     },
     "execution_count": 6,
     "metadata": {},
     "output_type": "execute_result"
    }
   ],
   "source": [
    "rate = pd.read_table(\"combined_data_1.txt\", sep=\",\", names=[\"Customer_ID\", \"Rating\", \"Date\"])\n",
    "\n",
    "temp_list1 = rate[\"Customer_ID\"]\n",
    "temp_list2 = []\n",
    "\n",
    "for i in temp_list1 :\n",
    "    if i.find(\":\") > 0 :\n",
    "        temp = i.replace(\":\", \"\")\n",
    "        temp_list2.append(np.nan)\n",
    "    else :\n",
    "        temp_list2.append(temp)\n",
    "\n",
    "rate.insert(0, \"Movie_ID\", temp_list2)\n",
    "rate = rate.dropna(subset=[\"Movie_ID\"])\n",
    "rate = rate.astype({\"Movie_ID\": \"int\", \"Customer_ID\": \"int\"})\n",
    "rate[\"Date\"] = pd.to_datetime(rate[\"Date\"], format=\"%Y-%m-%d\")\n",
    "rate = rate.sort_values(by=[\"Movie_ID\", \"Date\", \"Customer_ID\"])\n",
    "rate = rate.reset_index().drop([\"index\"], axis=1)\n",
    "\n",
    "rate"
   ]
  },
  {
   "cell_type": "markdown",
   "metadata": {},
   "source": [
    "### Which movie has the highest mean rating "
   ]
  },
  {
   "cell_type": "code",
   "execution_count": 7,
   "metadata": {},
   "outputs": [
    {
     "data": {
      "text/plain": [
       "Movie_ID\n",
       "3456    4.670989\n",
       "3033    4.586364\n",
       "2102    4.581296\n",
       "4238    4.554434\n",
       "13      4.552000\n",
       "          ...   \n",
       "1227    1.496241\n",
       "4202    1.487395\n",
       "2426    1.452381\n",
       "3575    1.400000\n",
       "515     1.287879\n",
       "Name: Rating, Length: 4499, dtype: float64"
      ]
     },
     "execution_count": 7,
     "metadata": {},
     "output_type": "execute_result"
    }
   ],
   "source": [
    "rate.groupby('Movie_ID').Rating.mean().sort_values(ascending=False)"
   ]
  },
  {
   "cell_type": "code",
   "execution_count": 8,
   "metadata": {
    "scrolled": true
   },
   "outputs": [
    {
     "data": {
      "text/plain": [
       "Movie_ID                  3456\n",
       "Year_Release              2004\n",
       "Title           Lost: Season 1\n",
       "Name: 3455, dtype: object"
      ]
     },
     "metadata": {},
     "output_type": "display_data"
    },
    {
     "data": {
      "text/plain": [
       "Movie_ID                                                    3033\n",
       "Year_Release                                                2005\n",
       "Title           Ghost in the Shell: Stand Alone Complex: 2nd Gig\n",
       "Name: 3032, dtype: object"
      ]
     },
     "metadata": {},
     "output_type": "display_data"
    },
    {
     "data": {
      "text/plain": [
       "Movie_ID                          2102\n",
       "Year_Release                      1994\n",
       "Title           The Simpsons: Season 6\n",
       "Name: 2101, dtype: object"
      ]
     },
     "metadata": {},
     "output_type": "display_data"
    },
    {
     "data": {
      "text/plain": [
       "Movie_ID             4238\n",
       "Year_Release         2000\n",
       "Title           Inu-Yasha\n",
       "Name: 4237, dtype: object"
      ]
     },
     "metadata": {},
     "output_type": "display_data"
    },
    {
     "data": {
      "text/plain": [
       "Movie_ID                                                       13\n",
       "Year_Release                                                 2003\n",
       "Title           Lord of the Rings: The Return of the King: Ext...\n",
       "Name: 12, dtype: object"
      ]
     },
     "metadata": {},
     "output_type": "display_data"
    }
   ],
   "source": [
    "display(movie.iloc[3455])\n",
    "display(movie.iloc[3032])\n",
    "display(movie.iloc[2101])\n",
    "display(movie.iloc[4237])\n",
    "display(movie.iloc[12])"
   ]
  },
  {
   "cell_type": "code",
   "execution_count": 9,
   "metadata": {},
   "outputs": [],
   "source": [
    "### TOP 5 highest rated movies (in mean value) are \n",
    "### 1st 3456 'Lost: Season 1' in 2004 \n",
    "### 2nd 3033 'Ghost in the Shell: Stand Alone Complex: 2nd Gig' in 2005\n",
    "### 3rd 2102 'The Simpsons: Season 6' in 1994\n",
    "### 4th 4238 'Inu-Yasha' in 2000\n",
    "### 5th 13 'Lord of the Rings: The Return of the King' in 2000"
   ]
  },
  {
   "cell_type": "markdown",
   "metadata": {},
   "source": [
    "### Which movie has the highest no. of rating "
   ]
  },
  {
   "cell_type": "code",
   "execution_count": 10,
   "metadata": {
    "scrolled": true
   },
   "outputs": [
    {
     "data": {
      "text/plain": [
       "Movie_ID\n",
       "1905    193941\n",
       "2152    162597\n",
       "3860    160454\n",
       "4432    156183\n",
       "571     154832\n",
       "         ...  \n",
       "4294        44\n",
       "915         43\n",
       "3656        42\n",
       "4338        39\n",
       "4362        36\n",
       "Name: Date, Length: 4499, dtype: int64"
      ]
     },
     "execution_count": 10,
     "metadata": {},
     "output_type": "execute_result"
    }
   ],
   "source": [
    "rate.groupby('Movie_ID').Date.count().sort_values(ascending=False)"
   ]
  },
  {
   "cell_type": "code",
   "execution_count": 11,
   "metadata": {
    "scrolled": true
   },
   "outputs": [
    {
     "data": {
      "text/plain": [
       "Movie_ID                                                     1905\n",
       "Year_Release                                                 2003\n",
       "Title           Pirates of the Caribbean: The Curse of the Bla...\n",
       "Name: 1904, dtype: object"
      ]
     },
     "metadata": {},
     "output_type": "display_data"
    },
    {
     "data": {
      "text/plain": [
       "Movie_ID                   2152\n",
       "Year_Release               2000\n",
       "Title           What Women Want\n",
       "Name: 2151, dtype: object"
      ]
     },
     "metadata": {},
     "output_type": "display_data"
    },
    {
     "data": {
      "text/plain": [
       "Movie_ID                  3860\n",
       "Year_Release              2003\n",
       "Title           Bruce Almighty\n",
       "Name: 3859, dtype: object"
      ]
     },
     "metadata": {},
     "output_type": "display_data"
    },
    {
     "data": {
      "text/plain": [
       "Movie_ID                   4432\n",
       "Year_Release               2003\n",
       "Title           The Italian Job\n",
       "Name: 4431, dtype: object"
      ]
     },
     "metadata": {},
     "output_type": "display_data"
    },
    {
     "data": {
      "text/plain": [
       "Movie_ID                    571\n",
       "Year_Release               1999\n",
       "Title           American Beauty\n",
       "Name: 570, dtype: object"
      ]
     },
     "metadata": {},
     "output_type": "display_data"
    }
   ],
   "source": [
    "display(movie.iloc[1904])\n",
    "display(movie.iloc[2151])\n",
    "display(movie.iloc[3859])\n",
    "display(movie.iloc[4431])\n",
    "display(movie.iloc[570])"
   ]
  },
  {
   "cell_type": "code",
   "execution_count": 12,
   "metadata": {},
   "outputs": [],
   "source": [
    "### TOP 5 highest rated (in number of times) movies are \n",
    "### 1st 1905 'Pirates of the Caribbean: The Curse of the Black Pearl' in 2003 \n",
    "### 2nd 2152 'What Women Want' in 2000\n",
    "### 3rd 3860 'Bruce Almighty' in 2003\n",
    "### 4th 4432 'The Italian Job' in 2003\n",
    "### 5th 571 'American Beauty' in 1999"
   ]
  },
  {
   "cell_type": "markdown",
   "metadata": {},
   "source": [
    "### Which customers are the most active in rating"
   ]
  },
  {
   "cell_type": "code",
   "execution_count": 13,
   "metadata": {
    "scrolled": true
   },
   "outputs": [
    {
     "data": {
      "text/plain": [
       "Customer_ID\n",
       "305344     4467\n",
       "387418     4422\n",
       "2439493    4195\n",
       "1664010    4019\n",
       "2118461    3769\n",
       "           ... \n",
       "1605874       1\n",
       "2429614       1\n",
       "1605861       1\n",
       "960296        1\n",
       "1100658       1\n",
       "Name: Date, Length: 470758, dtype: int64"
      ]
     },
     "execution_count": 13,
     "metadata": {},
     "output_type": "execute_result"
    }
   ],
   "source": [
    "rate.groupby('Customer_ID').Date.count().sort_values(ascending=False)"
   ]
  },
  {
   "cell_type": "code",
   "execution_count": 14,
   "metadata": {},
   "outputs": [],
   "source": [
    "### They are very proactive in rating\n",
    "### 1) we may contact them for rewards to increase loyalty\n",
    "### 2) we may even invite them to be semi-professional in film critic"
   ]
  },
  {
   "cell_type": "markdown",
   "metadata": {},
   "source": [
    "### Which period have the most ratings"
   ]
  },
  {
   "cell_type": "code",
   "execution_count": 15,
   "metadata": {},
   "outputs": [
    {
     "data": {
      "text/plain": [
       "Date\n",
       "2005-01-19    180428\n",
       "2005-04-06     84600\n",
       "2005-06-01     56269\n",
       "2005-06-27     55495\n",
       "2005-05-31     55175\n",
       "               ...  \n",
       "1999-12-26         3\n",
       "1999-12-06         3\n",
       "1999-12-28         3\n",
       "1999-12-20         2\n",
       "1999-12-15         1\n",
       "Name: Date, Length: 2182, dtype: int64"
      ]
     },
     "execution_count": 15,
     "metadata": {},
     "output_type": "execute_result"
    }
   ],
   "source": [
    "rate.groupby('Date').Date.count().sort_values(ascending=False)"
   ]
  },
  {
   "cell_type": "code",
   "execution_count": 16,
   "metadata": {},
   "outputs": [],
   "source": [
    "### As the result show\n",
    "### JAN 19 has the highest rating among the time period\n",
    "### it also outperform the rest of the days with significant difference\n",
    "### it's worthwhile to has further study if there is special reason\n",
    "\n",
    "### from the 2nd to 5th, it all happens during APR-JUN 2005\n",
    "### maybe there is seasonality involved\n",
    "### if so, we may hold some special events during that period for promotion purpose"
   ]
  }
 ],
 "metadata": {
  "kernelspec": {
   "display_name": "Python 3 (ipykernel)",
   "language": "python",
   "name": "python3"
  },
  "language_info": {
   "codemirror_mode": {
    "name": "ipython",
    "version": 3
   },
   "file_extension": ".py",
   "mimetype": "text/x-python",
   "name": "python",
   "nbconvert_exporter": "python",
   "pygments_lexer": "ipython3",
   "version": "3.9.13"
  },
  "toc": {
   "base_numbering": 1,
   "nav_menu": {},
   "number_sections": true,
   "sideBar": true,
   "skip_h1_title": false,
   "title_cell": "Table of Contents",
   "title_sidebar": "Contents",
   "toc_cell": false,
   "toc_position": {},
   "toc_section_display": true,
   "toc_window_display": false
  },
  "varInspector": {
   "cols": {
    "lenName": 16,
    "lenType": 16,
    "lenVar": 40
   },
   "kernels_config": {
    "python": {
     "delete_cmd_postfix": "",
     "delete_cmd_prefix": "del ",
     "library": "var_list.py",
     "varRefreshCmd": "print(var_dic_list())"
    },
    "r": {
     "delete_cmd_postfix": ") ",
     "delete_cmd_prefix": "rm(",
     "library": "var_list.r",
     "varRefreshCmd": "cat(var_dic_list()) "
    }
   },
   "types_to_exclude": [
    "module",
    "function",
    "builtin_function_or_method",
    "instance",
    "_Feature"
   ],
   "window_display": false
  },
  "vscode": {
   "interpreter": {
    "hash": "d3dc24cc7e02586248f8d00edbc6455c95af5b22abe18b79a1c967fbdeaf1c4e"
   }
  }
 },
 "nbformat": 4,
 "nbformat_minor": 2
}
